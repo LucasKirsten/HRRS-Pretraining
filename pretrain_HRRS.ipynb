{
 "cells": [
  {
   "cell_type": "markdown",
   "metadata": {},
   "source": [
    "# Pretrain model in the HRRS dataset\n",
    "\n",
    "This notebook is used to pretrain the backbone model using the HRRS dataset."
   ]
  },
  {
   "cell_type": "markdown",
   "metadata": {},
   "source": [
    "## 1. Import modules and define parameters"
   ]
  },
  {
   "cell_type": "code",
   "execution_count": null,
   "metadata": {},
   "outputs": [],
   "source": [
    "# clone repository with the backbone model\n",
    "!git clone https://github.com/LucasKirsten/InceptionV4_TensorFlow2.git"
   ]
  },
  {
   "cell_type": "code",
   "execution_count": null,
   "metadata": {},
   "outputs": [],
   "source": [
    "# ignore all future warnings\n",
    "from warnings import simplefilter\n",
    "simplefilter(action='ignore', category=FutureWarning)"
   ]
  },
  {
   "cell_type": "code",
   "execution_count": null,
   "metadata": {},
   "outputs": [],
   "source": [
    "# import necessary modules\n",
    "import sys\n",
    "sys.path.append('./InceptionV4_TensorFlow2')\n",
    "from inception_resnet_v2 import InceptionResNetV2\n",
    "\n",
    "import os\n",
    "import cv2\n",
    "import numpy as np\n",
    "import tensorflow as tf\n",
    "import tensorflow.keras.layers as KL\n",
    "from tqdm import tqdm\n",
    "from glob import glob"
   ]
  },
  {
   "cell_type": "code",
   "execution_count": null,
   "metadata": {},
   "outputs": [],
   "source": [
    "# use mixed precision training (i.e., variables in float16 and computation in float32)\n",
    "# this speeds up the training and allows higher batch sizes\n",
    "from tensorflow.keras.mixed_precision import experimental as mixed_precision\n",
    "policy = mixed_precision.Policy('mixed_float16')\n",
    "mixed_precision.set_policy(policy)\n",
    "print('Compute dtype: %s' % policy.compute_dtype)\n",
    "print('Variable dtype: %s' % policy.variable_dtype)"
   ]
  },
  {
   "cell_type": "code",
   "execution_count": null,
   "metadata": {},
   "outputs": [],
   "source": [
    "# define strategy\n",
    "if len(tf.config.experimental.list_physical_devices('GPU'))>1:\n",
    "    strategy = tf.distribute.MirroredStrategy()\n",
    "    print('Using mirrored strategy')\n",
    "else:\n",
    "    strategy = tf.distribute.get_strategy()"
   ]
  },
  {
   "cell_type": "code",
   "execution_count": null,
   "metadata": {},
   "outputs": [],
   "source": [
    "# define the parameters for training\n",
    "BATCH_SIZE = 64\n",
    "PATH_TFRECORDS = './HRRS_tfrecords/*.tfrec'\n",
    "LR = 0.1*np.sqrt(BATCH_SIZE/256)\n",
    "LR_ATTENUATION = 0.1\n",
    "TOTAL_STEPS = int(100000)\n",
    "STEPS_PER_EPOCH = int(25000)\n",
    "EPOCHS = int(TOTAL_STEPS/STEPS_PER_EPOCH)"
   ]
  },
  {
   "cell_type": "markdown",
   "metadata": {},
   "source": [
    "## 2. Define DL model"
   ]
  },
  {
   "cell_type": "code",
   "execution_count": null,
   "metadata": {},
   "outputs": [],
   "source": [
    "# define the DL model\n",
    "with strategy.scope():\n",
    "    inputs = KL.Input((256,256,3))\n",
    "    backbone = InceptionResNetV2()\n",
    "    x = backbone(inputs)\n",
    "    x = KL.GlobalAveragePooling2D() (x)\n",
    "    x = KL.Dense(92, activation='softmax') (x)\n",
    "\n",
    "    model = tf.keras.Model(inputs, x)\n",
    "\n",
    "model.summary()"
   ]
  },
  {
   "cell_type": "markdown",
   "metadata": {},
   "source": [
    "## 3. Define data loader"
   ]
  },
  {
   "cell_type": "code",
   "execution_count": null,
   "metadata": {},
   "outputs": [],
   "source": [
    "# function to read data from tfrecords\n",
    "def __read_data(example):\n",
    "    LABELED_TFREC_FORMAT = {\n",
    "        'image': tf.io.FixedLenFeature([], tf.string),\n",
    "        'label': tf.io.FixedLenFeature([], tf.string),\n",
    "    }\n",
    "    example = tf.io.parse_single_example(example, LABELED_TFREC_FORMAT)\n",
    "    image = tf.reshape(tf.io.decode_raw(example['image'], tf.uint8), (256,256,3))\n",
    "    image = tf.cast(image, 'float32')/255.\n",
    "    label = tf.reshape(tf.io.decode_raw(example['label'], tf.float32), (92,))\n",
    "    return image, label\n",
    "\n",
    "\n",
    "ignore_order = tf.data.Options()\n",
    "ignore_order.experimental_deterministic = False\n",
    "\n",
    "dataset = tf.data.TFRecordDataset(tf.io.gfile.glob(PATH_TFRECORDS),\\\n",
    "                                  compression_type='GZIP',\\\n",
    "                                  num_parallel_reads=tf.data.experimental.AUTOTUNE)\n",
    "dataset = dataset.shuffle(2048)\n",
    "dataset = dataset.with_options(ignore_order)\n",
    "dataset = dataset.map(__read_data, num_parallel_calls=tf.data.experimental.AUTOTUNE)\n",
    "dataset = dataset.batch(BATCH_SIZE)\n",
    "dataset = dataset.prefetch(tf.data.experimental.AUTOTUNE)\n",
    "dataset = dataset.repeat()"
   ]
  },
  {
   "cell_type": "markdown",
   "metadata": {},
   "source": [
    "## 4. Define training setup"
   ]
  },
  {
   "cell_type": "code",
   "execution_count": null,
   "metadata": {},
   "outputs": [],
   "source": [
    "# learning rate scheduler\n",
    "def _schedule(epoch, lr):\n",
    "    if epoch>1:\n",
    "        return lr*float(LR_ATTENUATION)\n",
    "    return lr\n",
    "\n",
    "lr_scheduler = tf.keras.callbacks.LearningRateScheduler(_schedule, verbose=1)"
   ]
  },
  {
   "cell_type": "code",
   "execution_count": null,
   "metadata": {},
   "outputs": [],
   "source": [
    "# compile model\n",
    "with strategy.scope():\n",
    "    model.compile(tf.keras.optimizers.SGD(learning_rate=LR), \\\n",
    "                  loss='categorical_crossentropy', metrics=['acc'])"
   ]
  },
  {
   "cell_type": "code",
   "execution_count": null,
   "metadata": {},
   "outputs": [],
   "source": [
    "# train model\n",
    "history = model.fit(\n",
    "    dataset,\n",
    "    steps_per_epoch = STEPS_PER_EPOCH,\n",
    "    epochs = EPOCHS,\n",
    "    callbacks = [lr_scheduler]\n",
    ")"
   ]
  },
  {
   "cell_type": "code",
   "execution_count": null,
   "metadata": {},
   "outputs": [],
   "source": []
  }
 ],
 "metadata": {
  "kernelspec": {
   "display_name": "Python 3 (ipykernel)",
   "language": "python",
   "name": "python3"
  },
  "language_info": {
   "codemirror_mode": {
    "name": "ipython",
    "version": 3
   },
   "file_extension": ".py",
   "mimetype": "text/x-python",
   "name": "python",
   "nbconvert_exporter": "python",
   "pygments_lexer": "ipython3",
   "version": "3.10.0"
  }
 },
 "nbformat": 4,
 "nbformat_minor": 4
}
